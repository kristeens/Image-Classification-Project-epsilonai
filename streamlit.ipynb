{
 "cells": [
  {
   "cell_type": "code",
   "execution_count": null,
   "id": "b909a063",
   "metadata": {},
   "outputs": [],
   "source": [
    "%%writefile store_1.py\n",
    "\n",
    "import streamlit as st\n",
    "import tensorflow as tf\n",
    "from tensorflow.keras.preprocessing import image\n",
    "import numpy as np\n",
    "from PIL import Image\n",
    "\n",
    "# -------------------- PAGE CONFIG --------------------\n",
    "st.set_page_config(page_title=\"🍔 Fast Food Classifier\", layout=\"centered\")\n",
    "\n",
    "st.title(\"🍕 Fast Food Image Classifier\")\n",
    "st.write(\"Upload a food image and the model will predict its class!\")\n",
    "\n",
    "# -------------------- LOAD MODEL --------------------\n",
    "@st.cache_resource\n",
    "def load_model():\n",
    "    model = tf.keras.models.load_model(\"fastfood_cnn_model.h5\")\n",
    "    return model\n",
    "\n",
    "model = load_model()\n",
    "\n",
    "# -------------------- CLASS LABELS --------------------\n",
    "# ⚠️ Replace these with your actual class names from the training directory\n",
    "class_names = [\n",
    "    \"Burger\", \"Pizza\", \"Hotdog\", \"Fries\", \"Sandwich\",\n",
    "    \"Taco\", \"Nuggets\", \"Donut\", \"Pasta\", \"Salad\"\n",
    "]\n",
    "\n",
    "# -------------------- UPLOAD IMAGE --------------------\n",
    "uploaded_file = st.file_uploader(\"Choose an image...\", type=[\"jpg\", \"jpeg\", \"png\"])\n",
    "\n",
    "if uploaded_file is not None:\n",
    "    # Open and display image\n",
    "    img = Image.open(uploaded_file).convert(\"RGB\")\n",
    "    st.image(img, caption=\"Uploaded Image\", use_container_width=True)\n",
    "    st.write(\"\")\n",
    "\n",
    "    # Preprocess image\n",
    "    img = img.resize((150, 150))\n",
    "    img_array = image.img_to_array(img)\n",
    "    img_array = np.expand_dims(img_array, axis=0)\n",
    "    img_array = img_array / 255.0  # same rescaling as training\n",
    "\n",
    "    # Predict\n",
    "    predictions = model.predict(img_array)\n",
    "    predicted_class = class_names[np.argmax(predictions)]\n",
    "    confidence = np.max(predictions)\n",
    "\n",
    "    # Display result\n",
    "    st.markdown(f\"### 🍟 Prediction: **{predicted_class}**\")\n",
    "    st.markdown(f\"**Confidence:** {confidence * 100:.2f}%\")\n"
   ]
  }
 ],
 "metadata": {
  "kernelspec": {
   "display_name": "venv (3.14.0)",
   "language": "python",
   "name": "python3"
  },
  "language_info": {
   "name": "python",
   "version": "3.14.0"
  }
 },
 "nbformat": 4,
 "nbformat_minor": 5
}
